{
 "cells": [
  {
   "cell_type": "code",
   "execution_count": 1,
   "id": "92c2b48f-0049-4148-9a07-231acf764d93",
   "metadata": {},
   "outputs": [
    {
     "name": "stdout",
     "output_type": "stream",
     "text": [
      "Cleaned column names: ['Period', 'Year', 'Quarter', 'Region', 'Segment', 'Revenue_M', 'Interest_Income_M', 'Expenses_M', 'Net_Income_M', 'Active_Cards_(M)', 'Avg_Spend_per_Card_($)', 'Delinquency_perc']\n"
     ]
    }
   ],
   "source": [
    "import pandas as pd\n",
    "import numpy as np\n",
    "\n",
    "# 1. Load\n",
    "df = pd.read_excel(\"AmericanExpress_Data.xlsx\")\n",
    "\n",
    "# 2. Clean\n",
    "df.columns = (\n",
    "    df.columns\n",
    "    .str.strip()\n",
    "    .str.replace(\" \", \"_\")\n",
    "    .str.replace(\"($M)\", \"M\", regex=False)\n",
    "    .str.replace(\"%\", \"perc\", regex=False)\n",
    ")\n",
    "\n",
    "# Check what columns actually are\n",
    "print(\"Cleaned column names:\", df.columns.tolist())"
   ]
  },
  {
   "cell_type": "code",
   "execution_count": 4,
   "id": "214f588f-8c79-4c20-84c0-956ea71ae899",
   "metadata": {},
   "outputs": [
    {
     "name": "stdout",
     "output_type": "stream",
     "text": [
      "✅ Final column names: ['Period', 'Year', 'Quarter', 'Region', 'Segment', 'Revenue_M', 'Interest_Income_M', 'Expenses_M', 'Net_Income_M', 'Active_Cards_M', 'Avg_Spend_per_Card_()', 'Delinquency_perc']\n",
      "Data cleaning & KPI calculations complete! File saved as Amex_Cleaned_Data2.xlsx\n"
     ]
    }
   ],
   "source": [
    "import pandas as pd\n",
    "import numpy as np\n",
    "\n",
    "# 1. Load\n",
    "df = pd.read_excel(\"AmericanExpress_Data.xlsx\")\n",
    "\n",
    "# 2. Clean column names\n",
    "df.columns = (\n",
    "    df.columns\n",
    "    .str.strip()\n",
    "    .str.replace(\" \", \"_\")\n",
    "    .str.replace(\"($M)\", \"M\", regex=False)\n",
    "    .str.replace(\"%\", \"perc\", regex=False)\n",
    "    .str.replace(\"$\", \"\", regex=False)  # remove $ sign safely\n",
    ")\n",
    "\n",
    "# 3. Explicit rename for consistency\n",
    "df = df.rename(columns={\n",
    "    \"Active_Cards_(M)\": \"Active_Cards_M\",\n",
    "    \"Avg_Spend_per_Card_(_)\": \"Avg_Spend_per_Card\"  # optional cleanup\n",
    "})\n",
    "\n",
    "print(\"Final column names:\", df.columns.tolist())\n",
    "\n",
    "# 4. Ensure numeric columns\n",
    "for col in [\"Revenue_M\", \"Net_Income_M\", \"Active_Cards_M\", \"Delinquency_perc\"]:\n",
    "    if col in df.columns:\n",
    "        df[col] = pd.to_numeric(df[col], errors=\"coerce\")\n",
    "\n",
    "# 5. Core KPI calculations\n",
    "df[\"Net_Income_Margin_perc\"] = (df[\"Net_Income_M\"] / df[\"Revenue_M\"]) * 100\n",
    "df[\"YoY_Revenue_Growth_perc\"] = (\n",
    "    df.groupby([\"Region\", \"Segment\", \"Quarter\"])[\"Revenue_M\"]\n",
    "    .pct_change(periods=1) * 100\n",
    ")\n",
    "df[\"Revenue_per_ActiveCard\"] = df[\"Revenue_M\"].div(df[\"Active_Cards_M\"]).replace([np.inf, -np.inf], np.nan)\n",
    "df[\"Delinq_to_Revenue_perc\"] = (df[\"Delinquency_perc\"] / df[\"Revenue_M\"]) * 100\n",
    "\n",
    "# 6. Export\n",
    "df.to_excel(\"Amex_Cleaned_Data2.xlsx\", index=False)\n",
    "print(\"Data cleaning & KPI calculations complete! File saved as Amex_Cleaned_Data2.xlsx\")\n"
   ]
  },
  {
   "cell_type": "code",
   "execution_count": 7,
   "id": "1e25a0e7-906c-451a-a315-4c811ffccd83",
   "metadata": {},
   "outputs": [
    {
     "name": "stdout",
     "output_type": "stream",
     "text": [
      "Period                      object\n",
      "Year                         int64\n",
      "Quarter                     object\n",
      "Region                      object\n",
      "Segment                     object\n",
      "Revenue_M                    int64\n",
      "Interest_Income_M            int64\n",
      "Expenses_M                   int64\n",
      "Net_Income_M                 int64\n",
      "Active_Cards_M               int64\n",
      "Avg_Spend_per_Card_()        int64\n",
      "Delinquency_perc           float64\n",
      "Net_Income_Margin_perc     float64\n",
      "YoY_Revenue_Growth_perc    float64\n",
      "Revenue_per_ActiveCard     float64\n",
      "Delinq_to_Revenue_perc     float64\n",
      "dtype: object\n"
     ]
    }
   ],
   "source": [
    "print(df.dtypes)\n"
   ]
  },
  {
   "cell_type": "code",
   "execution_count": null,
   "id": "89fd378a-6383-480f-8fcf-27f7f2d5a75a",
   "metadata": {},
   "outputs": [],
   "source": []
  },
  {
   "cell_type": "code",
   "execution_count": null,
   "id": "37b9dd74-ffbb-418d-9ff2-244d4c4f7920",
   "metadata": {},
   "outputs": [],
   "source": []
  }
 ],
 "metadata": {
  "kernelspec": {
   "display_name": "Python 3 (ipykernel)",
   "language": "python",
   "name": "python3"
  },
  "language_info": {
   "codemirror_mode": {
    "name": "ipython",
    "version": 3
   },
   "file_extension": ".py",
   "mimetype": "text/x-python",
   "name": "python",
   "nbconvert_exporter": "python",
   "pygments_lexer": "ipython3",
   "version": "3.13.5"
  }
 },
 "nbformat": 4,
 "nbformat_minor": 5
}
